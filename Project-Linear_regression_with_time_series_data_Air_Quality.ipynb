{
 "cells": [
  {
   "cell_type": "code",
   "execution_count": 164,
   "id": "4107994c",
   "metadata": {},
   "outputs": [],
   "source": [
    "import pandas as pd\n",
    "from glob import glob\n",
    "import plotly.express as px\n",
    "import matplotlib.pyplot as plt\n",
    "from sklearn.model_selection import train_test_split\n",
    "from sklearn.metrics import mean_absolute_error\n",
    "from sklearn.linear_model import LinearRegression"
   ]
  },
  {
   "cell_type": "code",
   "execution_count": 128,
   "id": "04d89f15",
   "metadata": {},
   "outputs": [],
   "source": [
    "def wrangle(filepath):\n",
    "    #extract timestamp and value_type from dataset \n",
    "    df=pd.read_csv(filepath)\n",
    "    \n",
    "    #extract p2 type from value_type\n",
    "    df=df[df['value_type']=='P2'] \n",
    "    \n",
    "    df=df[['timestamp','value']]\n",
    "    \n",
    "    #set index to timestamp\n",
    "    df=df.set_index('timestamp')\n",
    "    \n",
    "    df.index=pd.to_datetime(df.index)\n",
    "    \n",
    "    #rename value to p2\n",
    "    df.rename(columns={'value':'P2'},inplace=True)\n",
    "    \n",
    "    #setting the timezone to the correct one\n",
    "    #df.index = df.index.tz_localize(\"UTC\").tz_convert(\"Africa/Nairobi\")\n",
    "    \n",
    "    #removing outliers\n",
    "    df=df[df['P2']<500.4]\n",
    "    \n",
    "    #resampling by 1H and fill null value\n",
    "    df=df['P2'].resample('1H').mean().fillna(method='ffill').to_frame()\n",
    "    \n",
    "    #create a new column where the values are of the previous hour\n",
    "    df['P2.L1']=df['P2'].shift(1)\n",
    "    df.dropna(inplace=True)\n",
    "    \n",
    "    return df"
   ]
  },
  {
   "cell_type": "code",
   "execution_count": 120,
   "id": "09cc2440",
   "metadata": {},
   "outputs": [
    {
     "data": {
      "text/plain": [
       "['/Users/bambino/Documents/DATASETS\\\\2020_sensor_data_archive_august.csv',\n",
       " '/Users/bambino/Documents/DATASETS\\\\2020_sensor_data_archive_december.csv',\n",
       " '/Users/bambino/Documents/DATASETS\\\\2020_sensor_data_archive_february.csv',\n",
       " '/Users/bambino/Documents/DATASETS\\\\2020_sensor_data_archive_january .csv',\n",
       " '/Users/bambino/Documents/DATASETS\\\\2020_sensor_data_archive_march.csv',\n",
       " '/Users/bambino/Documents/DATASETS\\\\2020_sensor_data_archive_november.csv',\n",
       " '/Users/bambino/Documents/DATASETS\\\\2020_sensor_data_archive_october.csv',\n",
       " '/Users/bambino/Documents/DATASETS\\\\2020_sensor_data_archive_september.csv']"
      ]
     },
     "execution_count": 120,
     "metadata": {},
     "output_type": "execute_result"
    }
   ],
   "source": [
    "files=glob(\"/Users/bambino/Documents/DATASETS/2020_sensor_data_archive_*.csv\")\n",
    "files"
   ]
  },
  {
   "cell_type": "code",
   "execution_count": 129,
   "id": "308683ac",
   "metadata": {},
   "outputs": [],
   "source": [
    "dfs=[wrangle(i) for i in files]"
   ]
  },
  {
   "cell_type": "code",
   "execution_count": 130,
   "id": "3c298805",
   "metadata": {},
   "outputs": [],
   "source": [
    "df=pd.concat(dfs)"
   ]
  },
  {
   "cell_type": "code",
   "execution_count": 131,
   "id": "fb07a7d7",
   "metadata": {},
   "outputs": [
    {
     "data": {
      "text/plain": [
       "(3659, 2)"
      ]
     },
     "execution_count": 131,
     "metadata": {},
     "output_type": "execute_result"
    }
   ],
   "source": [
    "df.shape"
   ]
  },
  {
   "cell_type": "code",
   "execution_count": 132,
   "id": "22df5a93",
   "metadata": {},
   "outputs": [
    {
     "data": {
      "text/html": [
       "<div>\n",
       "<style scoped>\n",
       "    .dataframe tbody tr th:only-of-type {\n",
       "        vertical-align: middle;\n",
       "    }\n",
       "\n",
       "    .dataframe tbody tr th {\n",
       "        vertical-align: top;\n",
       "    }\n",
       "\n",
       "    .dataframe thead th {\n",
       "        text-align: right;\n",
       "    }\n",
       "</style>\n",
       "<table border=\"1\" class=\"dataframe\">\n",
       "  <thead>\n",
       "    <tr style=\"text-align: right;\">\n",
       "      <th></th>\n",
       "      <th>P2</th>\n",
       "      <th>P2.L1</th>\n",
       "    </tr>\n",
       "    <tr>\n",
       "      <th>timestamp</th>\n",
       "      <th></th>\n",
       "      <th></th>\n",
       "    </tr>\n",
       "  </thead>\n",
       "  <tbody>\n",
       "    <tr>\n",
       "      <th>2020-08-12 10:00:00+00:00</th>\n",
       "      <td>39.545263</td>\n",
       "      <td>38.463043</td>\n",
       "    </tr>\n",
       "    <tr>\n",
       "      <th>2020-08-12 11:00:00+00:00</th>\n",
       "      <td>39.326471</td>\n",
       "      <td>39.545263</td>\n",
       "    </tr>\n",
       "    <tr>\n",
       "      <th>2020-12-01 01:00:00+00:00</th>\n",
       "      <td>39.833333</td>\n",
       "      <td>41.300000</td>\n",
       "    </tr>\n",
       "    <tr>\n",
       "      <th>2020-12-01 02:00:00+00:00</th>\n",
       "      <td>43.595833</td>\n",
       "      <td>39.833333</td>\n",
       "    </tr>\n",
       "    <tr>\n",
       "      <th>2020-12-01 03:00:00+00:00</th>\n",
       "      <td>50.015385</td>\n",
       "      <td>43.595833</td>\n",
       "    </tr>\n",
       "  </tbody>\n",
       "</table>\n",
       "</div>"
      ],
      "text/plain": [
       "                                  P2      P2.L1\n",
       "timestamp                                      \n",
       "2020-08-12 10:00:00+00:00  39.545263  38.463043\n",
       "2020-08-12 11:00:00+00:00  39.326471  39.545263\n",
       "2020-12-01 01:00:00+00:00  39.833333  41.300000\n",
       "2020-12-01 02:00:00+00:00  43.595833  39.833333\n",
       "2020-12-01 03:00:00+00:00  50.015385  43.595833"
      ]
     },
     "execution_count": 132,
     "metadata": {},
     "output_type": "execute_result"
    }
   ],
   "source": [
    "df.head()"
   ]
  },
  {
   "cell_type": "code",
   "execution_count": 125,
   "id": "89d733f5",
   "metadata": {},
   "outputs": [
    {
     "data": {
      "text/plain": [
       "<AxesSubplot:>"
      ]
     },
     "execution_count": 125,
     "metadata": {},
     "output_type": "execute_result"
    },
    {
     "data": {
      "image/png": "[encoded data removed]",
      "text/plain": [
       "<Figure size 432x288 with 1 Axes>"
      ]
     },
     "metadata": {
      "needs_background": "light"
     },
     "output_type": "display_data"
    }
   ],
   "source": [
    "df.boxplot()"
   ]
  },
  {
   "cell_type": "markdown",
   "id": "7b1958f3",
   "metadata": {},
   "source": [
    "We notice there are a lot of outliers in our data from the boxplot above.<br>\n",
    "From the information available online, Particulate matter ranges from 0 to 500.4. Our data contains values above 500, this means there was an error in the data entry.<br>\n",
    "The wrangle function will be modified to remove these outliers"
   ]
  },
  {
   "cell_type": "code",
   "execution_count": 126,
   "id": "bf27ae2f",
   "metadata": {},
   "outputs": [
    {
     "data": {
      "text/plain": [
       "<AxesSubplot:xlabel='timestamp'>"
      ]
     },
     "execution_count": 126,
     "metadata": {},
     "output_type": "execute_result"
    },
    {
     "data": {
      "image/png": "[encoded data removed]",
      "text/plain": [
       "<Figure size 720x720 with 1 Axes>"
      ]
     },
     "metadata": {
      "needs_background": "light"
     },
     "output_type": "display_data"
    }
   ],
   "source": [
    "#time series plot\n",
    "fig,ax=plt.subplots(figsize=(10,10))\n",
    "df.plot(kind='line',ax=ax)"
   ]
  },
  {
   "cell_type": "markdown",
   "id": "eb04632e",
   "metadata": {},
   "source": [
    "For this project, I am trying to predict PM 2.5 readings.<br>\n",
    "What to consider is, will I be predicting the readings every hour, second or minute?<br>\n",
    "Resample method will be used to get the readings by hour.<br>\n",
    "In time series data, we can't have any null values, so any null value should be taken care of.<br>\n",
    "This will be modified in the wrangle function.<br>"
   ]
  },
  {
   "cell_type": "code",
   "execution_count": 105,
   "id": "ae68701e",
   "metadata": {},
   "outputs": [],
   "source": [
    "#rolling avearage"
   ]
  },
  {
   "cell_type": "markdown",
   "id": "e9925fbf",
   "metadata": {},
   "source": [
    "Rolling average is the mean value of multiple subsets of numbers in a dataset. <br>\n",
    "These averages roll, giving me a sense for how the data is changing in relation to any kind of static construct. In this case, and in many data science applications, that construct is time. Calculating rolling averages is helpful for making accurate forecasts about the ways data will change in the future.\n",
    "\n"
   ]
  },
  {
   "cell_type": "code",
   "execution_count": 106,
   "id": "d5835c1a",
   "metadata": {},
   "outputs": [],
   "source": [
    "#calculating rolling average"
   ]
  },
  {
   "cell_type": "markdown",
   "id": "792c1d4a",
   "metadata": {},
   "source": [
    "Our data is already resampled into hours.<br>\n",
    "We can calculate our rolling average by the number of hours in a week, 24*7=168.<br>"
   ]
  },
  {
   "cell_type": "code",
   "execution_count": 110,
   "id": "e3916bf7",
   "metadata": {},
   "outputs": [
    {
     "data": {
      "text/plain": [
       "timestamp\n",
       "2020-08-12 09:00:00+00:00          NaN\n",
       "2020-08-12 10:00:00+00:00          NaN\n",
       "2020-08-12 11:00:00+00:00          NaN\n",
       "2020-12-01 00:00:00+00:00          NaN\n",
       "2020-12-01 01:00:00+00:00          NaN\n",
       "                               ...    \n",
       "2020-09-30 19:00:00+00:00    22.988902\n",
       "2020-09-30 20:00:00+00:00    23.141478\n",
       "2020-09-30 21:00:00+00:00    23.248585\n",
       "2020-09-30 22:00:00+00:00    23.349636\n",
       "2020-09-30 23:00:00+00:00    23.366089\n",
       "Name: P2, Length: 3667, dtype: float64"
      ]
     },
     "execution_count": 110,
     "metadata": {},
     "output_type": "execute_result"
    }
   ],
   "source": [
    "df['P2'].rolling(168).mean()"
   ]
  },
  {
   "cell_type": "code",
   "execution_count": 111,
   "id": "0cb8dd79",
   "metadata": {},
   "outputs": [
    {
     "data": {
      "text/plain": [
       "<AxesSubplot:xlabel='timestamp'>"
      ]
     },
     "execution_count": 111,
     "metadata": {},
     "output_type": "execute_result"
    },
    {
     "data": {
      "image/png": "[encoded data removed]",
      "text/plain": [
       "<Figure size 432x288 with 1 Axes>"
      ]
     },
     "metadata": {
      "needs_background": "light"
     },
     "output_type": "display_data"
    }
   ],
   "source": [
    "df['P2'].rolling(168).mean().plot()"
   ]
  },
  {
   "cell_type": "markdown",
   "id": "6dc28974",
   "metadata": {},
   "source": [
    "Remember that when you train a machine learning model, we need a target and predictor variable but in time series data, we only have one column so what to do?<br>\n",
    "A new column will be created called p2.l1, it'll contains values from the previous hour values of p2.<br>\n",
    "This will be modified in our wrangle function.<br>"
   ]
  },
  {
   "cell_type": "code",
   "execution_count": 133,
   "id": "00c8c44a",
   "metadata": {},
   "outputs": [
    {
     "data": {
      "text/html": [
       "<div>\n",
       "<style scoped>\n",
       "    .dataframe tbody tr th:only-of-type {\n",
       "        vertical-align: middle;\n",
       "    }\n",
       "\n",
       "    .dataframe tbody tr th {\n",
       "        vertical-align: top;\n",
       "    }\n",
       "\n",
       "    .dataframe thead th {\n",
       "        text-align: right;\n",
       "    }\n",
       "</style>\n",
       "<table border=\"1\" class=\"dataframe\">\n",
       "  <thead>\n",
       "    <tr style=\"text-align: right;\">\n",
       "      <th></th>\n",
       "      <th>P2</th>\n",
       "      <th>P2.L1</th>\n",
       "    </tr>\n",
       "    <tr>\n",
       "      <th>timestamp</th>\n",
       "      <th></th>\n",
       "      <th></th>\n",
       "    </tr>\n",
       "  </thead>\n",
       "  <tbody>\n",
       "    <tr>\n",
       "      <th>2020-08-12 10:00:00+00:00</th>\n",
       "      <td>39.545263</td>\n",
       "      <td>38.463043</td>\n",
       "    </tr>\n",
       "    <tr>\n",
       "      <th>2020-08-12 11:00:00+00:00</th>\n",
       "      <td>39.326471</td>\n",
       "      <td>39.545263</td>\n",
       "    </tr>\n",
       "    <tr>\n",
       "      <th>2020-12-01 01:00:00+00:00</th>\n",
       "      <td>39.833333</td>\n",
       "      <td>41.300000</td>\n",
       "    </tr>\n",
       "    <tr>\n",
       "      <th>2020-12-01 02:00:00+00:00</th>\n",
       "      <td>43.595833</td>\n",
       "      <td>39.833333</td>\n",
       "    </tr>\n",
       "    <tr>\n",
       "      <th>2020-12-01 03:00:00+00:00</th>\n",
       "      <td>50.015385</td>\n",
       "      <td>43.595833</td>\n",
       "    </tr>\n",
       "  </tbody>\n",
       "</table>\n",
       "</div>"
      ],
      "text/plain": [
       "                                  P2      P2.L1\n",
       "timestamp                                      \n",
       "2020-08-12 10:00:00+00:00  39.545263  38.463043\n",
       "2020-08-12 11:00:00+00:00  39.326471  39.545263\n",
       "2020-12-01 01:00:00+00:00  39.833333  41.300000\n",
       "2020-12-01 02:00:00+00:00  43.595833  39.833333\n",
       "2020-12-01 03:00:00+00:00  50.015385  43.595833"
      ]
     },
     "execution_count": 133,
     "metadata": {},
     "output_type": "execute_result"
    }
   ],
   "source": [
    "df.head()"
   ]
  },
  {
   "cell_type": "code",
   "execution_count": 134,
   "id": "5248619e",
   "metadata": {},
   "outputs": [],
   "source": [
    "#next, we will calculate the correlation matrix and plot a scatter plot"
   ]
  },
  {
   "cell_type": "code",
   "execution_count": 135,
   "id": "1610d798",
   "metadata": {},
   "outputs": [
    {
     "data": {
      "text/html": [
       "<div>\n",
       "<style scoped>\n",
       "    .dataframe tbody tr th:only-of-type {\n",
       "        vertical-align: middle;\n",
       "    }\n",
       "\n",
       "    .dataframe tbody tr th {\n",
       "        vertical-align: top;\n",
       "    }\n",
       "\n",
       "    .dataframe thead th {\n",
       "        text-align: right;\n",
       "    }\n",
       "</style>\n",
       "<table border=\"1\" class=\"dataframe\">\n",
       "  <thead>\n",
       "    <tr style=\"text-align: right;\">\n",
       "      <th></th>\n",
       "      <th>P2</th>\n",
       "      <th>P2.L1</th>\n",
       "    </tr>\n",
       "  </thead>\n",
       "  <tbody>\n",
       "    <tr>\n",
       "      <th>P2</th>\n",
       "      <td>1.000000</td>\n",
       "      <td>0.856066</td>\n",
       "    </tr>\n",
       "    <tr>\n",
       "      <th>P2.L1</th>\n",
       "      <td>0.856066</td>\n",
       "      <td>1.000000</td>\n",
       "    </tr>\n",
       "  </tbody>\n",
       "</table>\n",
       "</div>"
      ],
      "text/plain": [
       "             P2     P2.L1\n",
       "P2     1.000000  0.856066\n",
       "P2.L1  0.856066  1.000000"
      ]
     },
     "execution_count": 135,
     "metadata": {},
     "output_type": "execute_result"
    }
   ],
   "source": [
    "df.corr()"
   ]
  },
  {
   "cell_type": "code",
   "execution_count": 137,
   "id": "7405e3de",
   "metadata": {},
   "outputs": [
    {
     "data": {
      "image/png": "[encoded data removed]",
      "text/plain": [
       "<Figure size 432x288 with 1 Axes>"
      ]
     },
     "metadata": {
      "needs_background": "light"
     },
     "output_type": "display_data"
    }
   ],
   "source": [
    "plt.scatter(df['P2'],df['P2.L1']);"
   ]
  },
  {
   "cell_type": "markdown",
   "id": "3115b1da",
   "metadata": {},
   "source": [
    "## Split"
   ]
  },
  {
   "cell_type": "code",
   "execution_count": 145,
   "id": "4f736e55",
   "metadata": {},
   "outputs": [],
   "source": [
    "target = \"P2\"\n",
    "y = df[target]\n",
    "X = df.drop(columns=target)"
   ]
  },
  {
   "cell_type": "code",
   "execution_count": 146,
   "id": "99ac5035",
   "metadata": {},
   "outputs": [],
   "source": [
    "X_train,X_test, y_train, y_test=train_test_split(X,y,test_size=0.20,random_state=42)"
   ]
  },
  {
   "cell_type": "markdown",
   "id": "d8683226",
   "metadata": {},
   "source": [
    "## Baseline model"
   ]
  },
  {
   "cell_type": "code",
   "execution_count": 147,
   "id": "d70109af",
   "metadata": {},
   "outputs": [
    {
     "name": "stdout",
     "output_type": "stream",
     "text": [
      "Mean P2 Reading: 16.21\n",
      "Baseline MAE: 9.51\n"
     ]
    }
   ],
   "source": [
    "y_mean=y_train.mean()\n",
    "y_pred_baseline = [y.mean()]*len(y_train)\n",
    "mae_baseline = mean_absolute_error(y_pred_baseline,y_train)\n",
    "\n",
    "print(\"Mean P2 Reading:\", round(y_train.mean(), 2))\n",
    "print(\"Baseline MAE:\", round(mae_baseline, 2))"
   ]
  },
  {
   "cell_type": "markdown",
   "id": "76dbabab",
   "metadata": {},
   "source": [
    "## Iterate"
   ]
  },
  {
   "cell_type": "code",
   "execution_count": 148,
   "id": "b8e9d0ef",
   "metadata": {},
   "outputs": [
    {
     "data": {
      "text/plain": [
       "LinearRegression()"
      ]
     },
     "execution_count": 148,
     "metadata": {},
     "output_type": "execute_result"
    }
   ],
   "source": [
    "model=LinearRegression()\n",
    "model.fit(X_train,y_train)"
   ]
  },
  {
   "cell_type": "code",
   "execution_count": 156,
   "id": "0c3b5603",
   "metadata": {},
   "outputs": [],
   "source": [
    "y_pred_train=model.predict(X_train)\n",
    "y_pred_test=model.predict(X_test)"
   ]
  },
  {
   "cell_type": "code",
   "execution_count": 161,
   "id": "a8d0a8fb",
   "metadata": {},
   "outputs": [
    {
     "data": {
      "text/plain": [
       "array([ 15.27910655,  50.1646554 ,  36.97150508,   9.06328882,\n",
       "        13.88988227,   2.91336315,  10.5934489 ,  17.02954347,\n",
       "         6.59376898,  38.90873166,  28.786979  ,  26.98043834,\n",
       "        25.27822677,  10.66117129,  20.17049386,   8.98275408,\n",
       "        12.63375995,  33.39904127,  14.20286956,   9.94184963,\n",
       "        22.65424256,  11.17886325,  10.14135615,  36.77016823,\n",
       "         9.06328882,  19.8982355 ,  49.64133875,  21.58392631,\n",
       "         6.49036073,  11.18856925,   9.86863623,   2.91336315,\n",
       "        23.55954218,   7.66125219,   9.09001171,  14.34453749,\n",
       "         5.649714  ,  12.65597499,  15.70024276,   5.5754024 ,\n",
       "        18.05389444,   5.40444911,  10.92927558,  25.73493514,\n",
       "        12.05039557,  19.88648218,  31.42449177,  10.29327395,\n",
       "         6.74608468,   6.4161469 ,   7.57522645,  14.67399779,\n",
       "        10.29327395,  19.73971257,   6.96238253,  11.17894692,\n",
       "         8.97177207,  14.33465368,   2.91336315,  22.68464204,\n",
       "        15.15668101,   9.06328882,  15.33035593,   5.4655823 ,\n",
       "        10.29327395,  43.31251772,   5.54904558,  16.05004366,\n",
       "         9.06328882,  11.6665027 ,  36.73429366,  22.04383379,\n",
       "        22.09109054,  29.66187914,  13.54687748,   8.85463063,\n",
       "        14.44447378,  14.61808503,  31.65511398,  12.47210476,\n",
       "        10.95768556,  21.89210698,  11.94423614,   7.83330368,\n",
       "        19.93261397,   5.91245028,  17.34544337,   9.91805527,\n",
       "        13.03658008,  18.37237273,  10.48728946,  10.23470323,\n",
       "        14.53049952,  15.97259661,   7.65759152,   7.53312874,\n",
       "        40.81944227,  12.05039557,  11.87268668,  18.49826795,\n",
       "         4.31906044,  14.79876297,   9.96293509,   5.81444416,\n",
       "         6.43346346,   6.78476046,  15.97280352,   7.65759152,\n",
       "        16.70325362,   9.79096636,  15.69642293,  10.97525678,\n",
       "        13.88491422,  12.17229588,  17.55238264,   8.54530401,\n",
       "        15.6658643 ,  16.10397753,  11.98163864,   7.83330368,\n",
       "        28.68997124,   5.02923043,   7.24027514,  15.09097994,\n",
       "         2.91336315,  32.21080369,   7.83330368,   9.10847195,\n",
       "        15.41402839,   7.28969418,  15.432056  ,  12.84842164,\n",
       "        18.94518801,  10.78221214,  15.25714253,   2.91336315,\n",
       "        28.67459643,  12.96033355,   4.31906044,  26.14938666,\n",
       "        11.09862136,   9.00837877,  27.81353362,   4.04573041,\n",
       "        25.40172446,  13.91638234,  28.68766343,  22.2080228 ,\n",
       "         9.79359249,   9.28292902,   2.91336315,  19.12090018,\n",
       "         4.84619693,  26.20986729,  13.10466854,   9.90085012,\n",
       "         5.54904558,   7.65759152,  14.45362545,  27.39925227,\n",
       "         5.12962829,  22.47049284,  22.76298038,  25.20867404,\n",
       "        15.24249985,  10.29327395,  12.21768819,  42.88215026,\n",
       "        45.44983972,   5.5710096 ,  30.89552494,  23.23008188,\n",
       "         7.37301422,  24.48642384,   8.31138719,  32.84300141,\n",
       "        20.30504736,   7.23932018,  23.13715718,   9.86314522,\n",
       "        32.07279643,  53.66743915,   6.99752497,  11.89664743,\n",
       "        14.05695206,  10.01824622,  41.80964628,  10.4935126 ,\n",
       "         8.14916721,  38.60394109,  10.04689494,  12.83011829,\n",
       "         7.52946807,   2.91336315,  10.33338216,  28.91876312,\n",
       "         7.95593613,   9.06328882,  19.05691803,   4.31906044,\n",
       "        17.83491981,   5.75318177,  10.8929872 ,   4.89012497,\n",
       "        33.88409597,  13.68719256,   8.34213682,  42.36274024,\n",
       "         4.68958392,  16.82756998,  14.81786212,   7.83330368,\n",
       "        19.43762772,   4.31906044,   4.31906044,  21.77362329,\n",
       "        63.95869676,   8.53615233,  18.82483155,  36.29294418,\n",
       "        10.91082899,  12.05039557,   9.09440451,  24.55460779,\n",
       "         9.06328882,  37.47557934,  10.90094518,   7.23747972,\n",
       "         4.00241249,   7.08835733,  17.8635396 ,   4.97798105,\n",
       "         2.91336315,  48.8932092 ,   2.91336315,  11.38956505,\n",
       "         4.95122488,  16.54503281,  18.63234397,   9.37496872,\n",
       "        30.22745266,   5.54904558,  16.85575713,   9.06328882,\n",
       "         5.04021244,  30.98911077,   7.61366348,  41.29078196,\n",
       "        17.51848166,  14.33465368,  14.33465368,  14.21484993,\n",
       "        16.92449815,   5.4611895 ,   5.3502712 ,  20.16793139,\n",
       "        22.75546805,   7.83330368,   4.31906044,  17.28222519,\n",
       "        19.32908089,  10.94487322,  18.09249787,  30.58180552,\n",
       "         2.91336315,  38.82636659,  45.59677583,  16.75451573,\n",
       "        19.07582619,   7.83330368,  47.25203533,  12.05039557,\n",
       "        12.05039557,   5.08877733,   4.2385257 ,   7.88487138,\n",
       "        23.55535856,   9.77212765,  27.93038221,  46.30584762,\n",
       "         8.46472152,  34.62176873,   9.01386977,  14.33465368,\n",
       "         6.70581731,   4.84619693,  12.07140463,   2.91336315,\n",
       "        30.00550465,  12.05039557,  12.73201233,   6.29182881,\n",
       "        12.52481841,  14.20286956,   9.61716411,  23.14039546,\n",
       "        34.99254685,  29.53948543,  16.2050634 ,  10.24202457,\n",
       "        21.097662  ,  40.5047838 ,  10.36831769,  15.89290108,\n",
       "        19.13928311,   2.5399748 ,  10.29327395,  15.14254764,\n",
       "        15.29374923,   6.58039957,  34.33069771,   4.38495251,\n",
       "        11.14673302,   2.91336315,  16.22737925,  23.86703847,\n",
       "         7.72947377,  14.86618297,  13.6709742 ,  11.96177552,\n",
       "        21.76032286,  44.74319371,  12.06391189,  14.33465368,\n",
       "        36.62335944,  10.91590618,   9.06328882,  11.32957636,\n",
       "        20.73167457,  17.8290338 ,   7.83330368,  31.7931849 ,\n",
       "        22.96337592,  10.23704606,  14.66594432,  49.94016083,\n",
       "        15.96548218,  14.21165516,  15.49435395,   7.83330368,\n",
       "         4.84619693,  23.28499193,  18.68536002,  29.26286611,\n",
       "        14.7937972 ,  17.09639048,  16.33965495,  19.25459421,\n",
       "         7.36537456,  11.47551122,  52.20062458,  17.55477004,\n",
       "        48.77996717,   9.06328882,  10.29327395,   2.91336315,\n",
       "         8.40963958,  39.47686766,  22.50600134,  16.70907987,\n",
       "         2.91336315,   4.71441281,  16.60792977,  14.1369775 ,\n",
       "         7.35808216,  32.36528397,   2.65894658,  14.33465368,\n",
       "         7.83330368,   7.97272746,   2.91336315,  23.59614888,\n",
       "        13.7311206 ,  17.38645445,   4.00424282,  13.40118282,\n",
       "        16.71774987,  14.11963748,  10.2331619 ,   5.54904558,\n",
       "        18.25706163,  11.85749418,  41.67912675,   9.5172119 ,\n",
       "         6.39941923,   8.0930521 ,  16.51907533,   2.91336315,\n",
       "         9.63244343,   2.91336315,   2.91336315,  37.93028686,\n",
       "        20.04529894,  17.15703028,  14.96172646,   4.84619693,\n",
       "        14.91779842,  10.29327395,   8.40836167,  31.30997646,\n",
       "        12.73860154,   6.831326  ,  16.9905812 ,  14.6142652 ,\n",
       "        14.31818066,  10.60260057,  19.46086501,   6.1457348 ,\n",
       "        15.1322341 ,  33.58977809,  20.52118605,   9.06328882,\n",
       "        23.16711835,   6.69881429,  17.11090584,  11.32844778,\n",
       "         7.39593319,  20.90921707,  35.82801635,  14.34197502,\n",
       "        15.48676638,  34.5305703 ,   8.69496909,  15.28110328,\n",
       "        10.8863025 ,  20.23356197,  10.86258136,  13.35104755,\n",
       "        52.00148413,  21.52420964,  37.39870527,  21.11676115,\n",
       "        37.08818062,  11.03638997,  15.1875898 ,  13.70684877,\n",
       "        10.23470323,   4.84619693,   8.42084123,  19.47041459,\n",
       "        22.74687343,   8.60021406,  12.80481192,   9.06328882,\n",
       "        15.95266984,  11.17947442,  12.07968093,  13.10466854,\n",
       "        20.0013709 ,   5.45569849,  11.84884339,  47.30264807,\n",
       "        36.8470423 ,  19.89354753,  29.98218777,  31.16508337,\n",
       "        19.06606971,  12.63610278,   2.91336315,   4.45657431,\n",
       "         9.06328882, 219.71888917,  30.19511674,   9.06328882,\n",
       "        14.4664378 ,  22.18835977,  21.17910479,  15.52835043,\n",
       "         8.1005326 ,  15.71289595,  11.83624637,  12.65074546,\n",
       "        33.40161965,  26.30408976,   8.18681982,   9.06328882,\n",
       "         2.91336315,   6.06703039,  11.10960337,  34.72751434,\n",
       "        13.32064808,   9.06328882,   2.91336315,   6.35502963,\n",
       "        30.49055025,   5.54904558,  14.01437833,  10.31504698,\n",
       "        25.56192869,  23.44972208,  23.33814486,  34.99730573,\n",
       "         9.38908845,  26.47025234,   4.90476765,   6.2555549 ,\n",
       "        13.61899268,  32.18700933,  13.69293822,   7.58171582,\n",
       "        25.65783825,   9.06328882,  14.56783836,  15.05347616,\n",
       "         3.71205479,   4.84619693,  11.47701904,  10.2749706 ,\n",
       "         7.78754531,  10.60268015,   7.11215169,  10.29327395,\n",
       "        25.86759464,  16.96269645,   8.93882604,  19.38828825,\n",
       "        13.20060738,  11.44272434,  19.88789013,  13.46285103,\n",
       "        10.12138162,   8.15361231,   2.91336315,  18.17469655,\n",
       "         9.06328882,  14.55978488,  27.88206137,  24.96141965,\n",
       "         8.03097987,   8.53615233,  13.10466854,  15.16546662,\n",
       "        33.14683702,  10.29327395,  10.24934591,   8.13896963,\n",
       "        11.76303297,   5.40007222,  47.83527556,  29.8786863 ,\n",
       "         6.07732801,  16.5310557 ,  11.71234065,  12.6730278 ,\n",
       "        14.86751991,  11.1736651 ,  10.97781925,  14.08827467,\n",
       "        10.29327395,  16.053577  ,   9.06328882,  38.52678054,\n",
       "        29.47454833,   5.27522746,  11.64223086,  20.34791433,\n",
       "        10.88550381,  20.18989541,  13.55984672,  14.47331349,\n",
       "        12.18217969,  10.25922972,   7.83330368,   8.1360411 ,\n",
       "        23.62360391,  10.29327395,   7.90397053,  16.92449815,\n",
       "        12.30481214,  16.62290524,   2.91336315,  10.29437215,\n",
       "         6.51737238,  13.39994137,  18.48219283,  13.10466854,\n",
       "         9.27304521,   7.7454476 ,  11.0656435 ,  15.42919402,\n",
       "        36.55309049,   7.83330368,   8.75961236,  21.47112992,\n",
       "        39.7919081 ,  14.2434507 ,   7.83330368,  31.85731783,\n",
       "         2.91336315,   6.03607385,  14.53507536,   6.73510267,\n",
       "         5.37150308,   8.54014579,  23.59531216,  27.40229077,\n",
       "         9.44033783,  35.82692497,  14.90388787,  40.33456265,\n",
       "         5.54904558,   2.91336315,  12.68934889,  15.70813708,\n",
       "         9.39055272,   9.91256427,  17.54140063,   4.31906044,\n",
       "        19.82931941,  15.61832864,   6.89744543,   8.82900594,\n",
       "         2.91336315,   9.06328882,  21.56368121,  19.36727919,\n",
       "         9.06328882,  23.56895533,  16.88599427,  10.86799915,\n",
       "        24.00101899,  10.33463952,   9.7990835 ,   4.24877558,\n",
       "        15.29648677,   8.37189966,  12.05039557,  15.69909681,\n",
       "         9.1377755 ,   2.94447884,   8.67939594,  11.72459594,\n",
       "        10.29327395,  26.13219742,  14.33465368,  12.41829291,\n",
       "        24.62845783,   4.7392417 ,   6.35732152,  15.04896181,\n",
       "        26.46719648,  14.22959245,  12.877707  ,   2.91336315,\n",
       "        16.00726611,   8.65994954,  29.51801481,  20.18037767,\n",
       "        12.21846807,  11.93398626,  14.33465368,  13.87540598,\n",
       "        13.90513506,   2.91336315,  23.2575369 ,  19.11899026,\n",
       "        14.90380829,  36.63963919,  17.1844853 ,  14.75746107,\n",
       "         5.61971243,  22.06407889,  23.51927481,   2.91336315,\n",
       "         2.91336315,   7.624359  ,   4.31906044,   9.06328882,\n",
       "        22.88266837,  50.40140526,   7.0554113 ,   6.82844976,\n",
       "        15.09241238,  13.93673884,  23.3551813 ,  45.41773579,\n",
       "        11.66419488,   5.09303068,  24.48752204,  32.33178088,\n",
       "        31.71946219,  13.68571672,  14.33465368,   5.51466711,\n",
       "        17.37923295,   9.23700425,  12.61413876,  15.83552839,\n",
       "         9.06328882,  13.56042196,   5.54904558,  11.3566986 ,\n",
       "        25.28992499,  16.96301477,  14.36061116,  12.85155936,\n",
       "        13.26128156,   8.73997844,   4.31906044,  24.88693297,\n",
       "         5.62408931,  38.15620249,  37.81698674,   8.53615233,\n",
       "         7.34210832,  42.64444544,  13.26280949,  16.26931779,\n",
       "         9.06328882,  12.05039557,  13.45418295,  28.23787849,\n",
       "        21.36497049,   7.95310743,  13.84778456,   8.48490295,\n",
       "         9.06328882,   4.84619693,   7.43222158,   6.18051116,\n",
       "        15.86899738,  19.65543758,  14.11581217,  12.68552182,\n",
       "        18.88980049,   9.06328882,  30.18250349,   8.18969379,\n",
       "         7.83330368,  13.87245429,  17.67318476,   8.84547895])"
      ]
     },
     "execution_count": 161,
     "metadata": {},
     "output_type": "execute_result"
    }
   ],
   "source": [
    "y_pred_test"
   ]
  },
  {
   "cell_type": "markdown",
   "id": "fe0a311e",
   "metadata": {},
   "source": [
    "## Evaluate"
   ]
  },
  {
   "cell_type": "code",
   "execution_count": 157,
   "id": "84b5c90f",
   "metadata": {},
   "outputs": [
    {
     "name": "stdout",
     "output_type": "stream",
     "text": [
      "Training MAE: 3.73\n",
      "Test MAE: 3.7\n"
     ]
    }
   ],
   "source": [
    "training_mae = mean_absolute_error(y_train,y_pred_train)\n",
    "test_mae = mean_absolute_error(y_test,y_pred_test)\n",
    "print(\"Training MAE:\", round(training_mae, 2))\n",
    "print(\"Test MAE:\", round(test_mae, 2))"
   ]
  },
  {
   "cell_type": "markdown",
   "id": "5e6db8bf",
   "metadata": {},
   "source": [
    "Both our training and test data is performing way better than our baseline model"
   ]
  },
  {
   "cell_type": "code",
   "execution_count": 155,
   "id": "c5b514b3",
   "metadata": {},
   "outputs": [
    {
     "name": "stdout",
     "output_type": "stream",
     "text": [
      "P2 = 2.0348023385958456 + ( [0.87856081] * P2.L1)\n"
     ]
    }
   ],
   "source": [
    "intercept = model.intercept_\n",
    "coefficient = model.coef_\n",
    "\n",
    "print(\"P2 =\",intercept, '+','(',coefficient, \"*\", \"P2.L1)\")"
   ]
  },
  {
   "cell_type": "code",
   "execution_count": 163,
   "id": "a205678f",
   "metadata": {},
   "outputs": [
    {
     "data": {
      "text/html": [
       "<div>\n",
       "<style scoped>\n",
       "    .dataframe tbody tr th:only-of-type {\n",
       "        vertical-align: middle;\n",
       "    }\n",
       "\n",
       "    .dataframe tbody tr th {\n",
       "        vertical-align: top;\n",
       "    }\n",
       "\n",
       "    .dataframe thead th {\n",
       "        text-align: right;\n",
       "    }\n",
       "</style>\n",
       "<table border=\"1\" class=\"dataframe\">\n",
       "  <thead>\n",
       "    <tr style=\"text-align: right;\">\n",
       "      <th></th>\n",
       "      <th>y_test</th>\n",
       "      <th>y_pred</th>\n",
       "    </tr>\n",
       "    <tr>\n",
       "      <th>timestamp</th>\n",
       "      <th></th>\n",
       "      <th></th>\n",
       "    </tr>\n",
       "  </thead>\n",
       "  <tbody>\n",
       "    <tr>\n",
       "      <th>2020-12-13 02:00:00+00:00</th>\n",
       "      <td>15.148696</td>\n",
       "      <td>15.279107</td>\n",
       "    </tr>\n",
       "    <tr>\n",
       "      <th>2020-12-12 05:00:00+00:00</th>\n",
       "      <td>40.316667</td>\n",
       "      <td>50.164655</td>\n",
       "    </tr>\n",
       "    <tr>\n",
       "      <th>2020-12-07 04:00:00+00:00</th>\n",
       "      <td>32.949167</td>\n",
       "      <td>36.971505</td>\n",
       "    </tr>\n",
       "    <tr>\n",
       "      <th>2020-02-20 01:00:00+00:00</th>\n",
       "      <td>8.000000</td>\n",
       "      <td>9.063289</td>\n",
       "    </tr>\n",
       "    <tr>\n",
       "      <th>2020-11-22 22:00:00+00:00</th>\n",
       "      <td>14.215417</td>\n",
       "      <td>13.889882</td>\n",
       "    </tr>\n",
       "  </tbody>\n",
       "</table>\n",
       "</div>"
      ],
      "text/plain": [
       "                              y_test     y_pred\n",
       "timestamp                                      \n",
       "2020-12-13 02:00:00+00:00  15.148696  15.279107\n",
       "2020-12-12 05:00:00+00:00  40.316667  50.164655\n",
       "2020-12-07 04:00:00+00:00  32.949167  36.971505\n",
       "2020-02-20 01:00:00+00:00   8.000000   9.063289\n",
       "2020-11-22 22:00:00+00:00  14.215417  13.889882"
      ]
     },
     "execution_count": 163,
     "metadata": {},
     "output_type": "execute_result"
    }
   ],
   "source": [
    "df_pred_test = pd.DataFrame(\n",
    "    {'y_test':y_test,\n",
    "    'y_pred':y_pred_test}\n",
    ")\n",
    "df_pred_test.head()"
   ]
  }
 ],
 "metadata": {
  "kernelspec": {
   "display_name": "Python 3",
   "language": "python",
   "name": "python3"
  },
  "language_info": {
   "codemirror_mode": {
    "name": "ipython",
    "version": 3
   },
   "file_extension": ".py",
   "mimetype": "text/x-python",
   "name": "python",
   "nbconvert_exporter": "python",
   "pygments_lexer": "ipython3",
   "version": "3.8.8"
  }
 },
 "nbformat": 4,
 "nbformat_minor": 5
}
